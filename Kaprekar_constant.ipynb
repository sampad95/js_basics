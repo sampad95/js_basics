{
 "cells": [
  {
   "cell_type": "code",
   "execution_count": 1,
   "id": "19baefa8-c8ec-482d-8303-5b49d868fdea",
   "metadata": {},
   "outputs": [
    {
     "name": "stdout",
     "output_type": "stream",
     "text": [
      "1278 8721 7443\n",
      "Next n= 7443\n",
      "3447 7443 3996\n",
      "Next n= 3996\n",
      "3699 9963 6264\n",
      "Next n= 6264\n",
      "2466 6642 4176\n",
      "Next n= 4176\n",
      "1467 7641 6174\n",
      "Next n= 6174\n"
     ]
    }
   ],
   "source": [
    "var n = 1728;\n",
    "\n",
    "while(n!=6174){\n",
    "    min_n = parseInt(n.toString().split('').sort().join(''));\n",
    "    max_n = parseInt(n.toString().split('').sort((a,b)=>b-a).join(''));\n",
    "    diff = max_n - min_n;\n",
    "    console.log(min_n, max_n, diff);\n",
    "    n = diff;\n",
    "    console.log(\"Next n=\", n);\n",
    "}"
   ]
  },
  {
   "cell_type": "code",
   "execution_count": 2,
   "id": "32942079-3e9d-49fa-a895-10069a5a3eae",
   "metadata": {},
   "outputs": [
    {
     "name": "stdout",
     "output_type": "stream",
     "text": [
      "Initial n =  5225\n",
      "Step =  1\n",
      "2255 5522 3267\n",
      "Next n= 3267\n",
      "Step =  2\n",
      "2367 7632 5265\n",
      "Next n= 5265\n",
      "Step =  3\n",
      "2556 6552 3996\n",
      "Next n= 3996\n",
      "Step =  4\n",
      "3699 9963 6264\n",
      "Next n= 6264\n",
      "Step =  5\n",
      "2466 6642 4176\n",
      "Next n= 4176\n",
      "Step =  6\n",
      "1467 7641 6174\n",
      "Next n= 6174\n"
     ]
    }
   ],
   "source": [
    "delete n;\n",
    "var n = Math.floor(Math.random() * 8999) + 1001;  // Math.floor(Math.random() * (max - min + 1) ) + min; \n",
    "// Here max = 9999, min = 1001\n",
    "console.log(\"Initial n = \", n);\n",
    "\n",
    "delete i;\n",
    "var i = 0;\n",
    "\n",
    "while(n!=6174){\n",
    "    min_n = parseInt(n.toString().split('').sort().join(''));\n",
    "    max_n = parseInt(n.toString().split('').sort((a,b)=>b-a).join(''));\n",
    "    diff = max_n - min_n;\n",
    "\n",
    "    // i++;\n",
    "    i +=1;\n",
    "    console.log('Step = ', i);\n",
    "\n",
    "    console.log(min_n, max_n, diff);\n",
    "    n = diff;\n",
    "\n",
    "    console.log(\"Next n=\", n);\n",
    "}"
   ]
  },
  {
   "cell_type": "code",
   "execution_count": 24,
   "id": "b2d82ce2-ee8c-4ad7-a711-9fa9bf16c8fc",
   "metadata": {},
   "outputs": [
    {
     "name": "stdout",
     "output_type": "stream",
     "text": [
      "Initial n =  8243\n",
      "Step =  1\n",
      "2348 8432 6084\n",
      "Next n= 6084\n",
      "Step =  2\n",
      "468 8640 8172\n",
      "Next n= 8172\n",
      "Step =  3\n",
      "1278 8721 7443\n",
      "Next n= 7443\n",
      "Step =  4\n",
      "3447 7443 3996\n",
      "Next n= 3996\n",
      "Step =  5\n",
      "3699 9963 6264\n",
      "Next n= 6264\n",
      "Step =  6\n",
      "2466 6642 4176\n",
      "Next n= 4176\n",
      "Step =  7\n",
      "1467 7641 6174\n",
      "Next n= 6174\n"
     ]
    }
   ],
   "source": [
    "delete n;\n",
    "var n = Math.floor(Math.random() * 8999) + 1001;  // Math.floor(Math.random() * (max - min + 1) ) + min; \n",
    "// Here max = 9999, min = 1001\n",
    "console.log(\"Initial n = \", n);\n",
    "\n",
    "delete i;\n",
    "var i = 0;\n",
    "\n",
    "if (n.toString().length === 4){\n",
    "    while(n!=6174){\n",
    "        min_n = parseInt(n.toString().split('').sort().join(''));\n",
    "        max_n = parseInt(n.toString().split('').sort((a,b)=>b-a).join(''));\n",
    "        \n",
    "        if (min_n === max_n){\n",
    "            console.log(\"Invalid\");\n",
    "            break;\n",
    "        }\n",
    "        else{\n",
    "            diff = max_n - min_n;\n",
    "             // i++;\n",
    "             i +=1;\n",
    "             console.log('Step = ', i);\n",
    "             console.log(min_n, max_n, diff);\n",
    "\n",
    "            if(diff.toString().length===4){\n",
    "                n=diff;\n",
    "            }\n",
    "            else if(diff.toString().length===3){\n",
    "                n=\"0\"+diff.toString();\n",
    "            }\n",
    "            else if(diff.toString().length===2){\n",
    "                n=\"00\"+diff.toString();\n",
    "            }\n",
    "            else{\n",
    "                n=\"000\"+diff.toString();\n",
    "            }\n",
    "\n",
    "            console.log(\"Next n=\", n);\n",
    "        }  \n",
    "    }\n",
    "}\n",
    "else{\n",
    "    console.log(\"Invalid\")\n",
    "}\n"
   ]
  },
  {
   "cell_type": "code",
   "execution_count": null,
   "id": "f429d67f-4526-4396-8209-cc4a96169524",
   "metadata": {},
   "outputs": [],
   "source": []
  }
 ],
 "metadata": {
  "kernelspec": {
   "display_name": "JavaScript (Node.js)",
   "language": "javascript",
   "name": "javascript"
  },
  "language_info": {
   "file_extension": ".js",
   "mimetype": "application/javascript",
   "name": "javascript",
   "version": "18.20.6"
  }
 },
 "nbformat": 4,
 "nbformat_minor": 5
}
