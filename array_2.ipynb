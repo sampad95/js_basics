{
 "cells": [
  {
   "cell_type": "code",
   "execution_count": 1,
   "id": "796367ec-b256-45c1-a0a8-d50ef80a0ed1",
   "metadata": {},
   "outputs": [
    {
     "name": "stdout",
     "output_type": "stream",
     "text": [
      "\n",
      "string\n"
     ]
    }
   ],
   "source": [
    "let a = [] + [];\n",
    "console.log(a);\n",
    "console.log(typeof a);"
   ]
  },
  {
   "cell_type": "code",
   "execution_count": 2,
   "id": "403c60d3-1240-4324-96dd-0ad96f674400",
   "metadata": {},
   "outputs": [
    {
     "name": "stdout",
     "output_type": "stream",
     "text": [
      "1\n",
      "string\n"
     ]
    }
   ],
   "source": [
    "let b = [1] + [];\n",
    "console.log(b);\n",
    "console.log(typeof b);"
   ]
  },
  {
   "cell_type": "code",
   "execution_count": 3,
   "id": "e4af8a4d-88bd-477d-8f68-4b79d5566426",
   "metadata": {},
   "outputs": [
    {
     "name": "stdout",
     "output_type": "stream",
     "text": [
      "1abc\n",
      "string\n"
     ]
    }
   ],
   "source": [
    "let c = [1] + \"abc\";\n",
    "console.log(c);\n",
    "console.log(typeof c);"
   ]
  },
  {
   "cell_type": "code",
   "execution_count": 4,
   "id": "34575b72-4f5d-4af0-be97-4da439bd05c8",
   "metadata": {},
   "outputs": [
    {
     "name": "stdout",
     "output_type": "stream",
     "text": [
      "1,23,4\n",
      "string\n"
     ]
    }
   ],
   "source": [
    "let d = [1, 2] + [3, 4];\n",
    "console.log(d);\n",
    "console.log(typeof d);"
   ]
  },
  {
   "cell_type": "code",
   "execution_count": null,
   "id": "5b5e1939-82b1-44be-9383-68c724ba06ae",
   "metadata": {},
   "outputs": [],
   "source": []
  }
 ],
 "metadata": {
  "kernelspec": {
   "display_name": "JavaScript (Node.js)",
   "language": "javascript",
   "name": "javascript"
  },
  "language_info": {
   "file_extension": ".js",
   "mimetype": "application/javascript",
   "name": "javascript",
   "version": "18.20.6"
  }
 },
 "nbformat": 4,
 "nbformat_minor": 5
}
