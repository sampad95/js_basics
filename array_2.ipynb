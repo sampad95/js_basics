{
 "cells": [
  {
   "cell_type": "code",
   "execution_count": 1,
   "id": "34575b72-4f5d-4af0-be97-4da439bd05c8",
   "metadata": {},
   "outputs": [
    {
     "name": "stdout",
     "output_type": "stream",
     "text": [
      "1,23,4\n",
      "string\n"
     ]
    }
   ],
   "source": [
    "let d = [1, 2] + [3, 4];       // addition operation between two arrays in js converts arrays into strings.\n",
    "console.log(d);                // becomes \"1,2\" + \"3,4\" and then concatenates into \"1,23,4\".\n",
    "console.log(typeof d);"
   ]
  },
  {
   "cell_type": "code",
   "execution_count": 2,
   "id": "18cd0d07-8909-4a31-a1ff-64d8f2def1c8",
   "metadata": {},
   "outputs": [
    {
     "name": "stdout",
     "output_type": "stream",
     "text": [
      "1,2,31,3,4\n"
     ]
    }
   ],
   "source": [
    "console.log([1,2,3]+[1,3,4]);"
   ]
  },
  {
   "cell_type": "code",
   "execution_count": 3,
   "id": "e4af8a4d-88bd-477d-8f68-4b79d5566426",
   "metadata": {},
   "outputs": [
    {
     "name": "stdout",
     "output_type": "stream",
     "text": [
      "1abc\n",
      "string\n"
     ]
    }
   ],
   "source": [
    "let c = [1] + \"abc\";   // becomes \"1\" + \"abc\" and then concatenates into \"1abc\".\n",
    "console.log(c);\n",
    "console.log(typeof c);"
   ]
  },
  {
   "cell_type": "code",
   "execution_count": 4,
   "id": "403c60d3-1240-4324-96dd-0ad96f674400",
   "metadata": {},
   "outputs": [
    {
     "name": "stdout",
     "output_type": "stream",
     "text": [
      "1\n",
      "string\n"
     ]
    }
   ],
   "source": [
    "let b = [1] + [];  // becomes \"1\" + \"\" = \"1\"\n",
    "console.log(b);\n",
    "console.log(typeof b);"
   ]
  },
  {
   "cell_type": "code",
   "execution_count": 5,
   "id": "796367ec-b256-45c1-a0a8-d50ef80a0ed1",
   "metadata": {},
   "outputs": [
    {
     "name": "stdout",
     "output_type": "stream",
     "text": [
      "\n",
      "string\n"
     ]
    }
   ],
   "source": [
    "let a = [] + [];         \n",
    "console.log(a);          // this is \"\" + \"\" = \"\" \n",
    "console.log(typeof a);"
   ]
  },
  {
   "cell_type": "code",
   "execution_count": 6,
   "id": "5b5e1939-82b1-44be-9383-68c724ba06ae",
   "metadata": {},
   "outputs": [
    {
     "name": "stdout",
     "output_type": "stream",
     "text": [
      "1\n",
      "3\n",
      "5\n",
      "7\n",
      "9\n"
     ]
    }
   ],
   "source": [
    "let arr1 = [1, 3, 5, 7, 9];\n",
    "arr1.forEach(function(item){\n",
    "    console.log(item);\n",
    "});"
   ]
  },
  {
   "cell_type": "code",
   "execution_count": 7,
   "id": "000b4ff8-ab1b-4ede-83a7-e0f127da02b2",
   "metadata": {},
   "outputs": [
    {
     "name": "stdout",
     "output_type": "stream",
     "text": [
      "1\n",
      "3\n",
      "5\n",
      "7\n",
      "9\n"
     ]
    }
   ],
   "source": [
    "let arr2 = [1, 3, 5, 7, 9];\n",
    "arr2.forEach((item) => {\n",
    "    console.log(item);\n",
    "});"
   ]
  },
  {
   "cell_type": "code",
   "execution_count": 8,
   "id": "86790270-6e3f-44fa-b3e9-03ed557ca9cb",
   "metadata": {},
   "outputs": [
    {
     "name": "stdout",
     "output_type": "stream",
     "text": [
      "1\n",
      "9\n",
      "25\n",
      "49\n",
      "81\n"
     ]
    }
   ],
   "source": [
    "let arr3 = [1, 3, 5, 7, 9];\n",
    "arr3.forEach((item) => {\n",
    "    console.log(item**2);\n",
    "});"
   ]
  },
  {
   "cell_type": "code",
   "execution_count": 9,
   "id": "a1dc424e-55d5-4b00-80a4-a0d7eb0936c9",
   "metadata": {},
   "outputs": [
    {
     "name": "stdout",
     "output_type": "stream",
     "text": [
      "1\n",
      "9\n",
      "25\n",
      "49\n",
      "81\n"
     ]
    }
   ],
   "source": [
    "let arr4 = [1, 3, 5, 7, 9];\n",
    "let f = (i) => i**2;\n",
    "arr4.forEach((item) => console.log(f(item)));"
   ]
  },
  {
   "cell_type": "code",
   "execution_count": 10,
   "id": "a1062e74-d9e5-4b74-a332-b1d381581274",
   "metadata": {},
   "outputs": [
    {
     "name": "stdout",
     "output_type": "stream",
     "text": [
      "5\n",
      "4\n"
     ]
    }
   ],
   "source": [
    "let count = 0;\n",
    "let arr5 = [1, 3, 5, 7, 9];\n",
    "\n",
    "delete arr5[3];\n",
    "arr5.forEach((item) => count ++);\n",
    "\n",
    "console.log(arr5.length);      // during length count the empty slot at 2 is taken as undefined element and so the length does not change after delete.\n",
    "console.log(count);            // during incrementation operation the empty slot is skipped and so the value of count is lower than the length."
   ]
  },
  {
   "cell_type": "code",
   "execution_count": null,
   "id": "51cbd5a2-97bc-427b-aed8-8f7d76bfcc87",
   "metadata": {},
   "outputs": [],
   "source": []
  }
 ],
 "metadata": {
  "kernelspec": {
   "display_name": "JavaScript (Node.js)",
   "language": "javascript",
   "name": "javascript"
  },
  "language_info": {
   "file_extension": ".js",
   "mimetype": "application/javascript",
   "name": "javascript",
   "version": "18.20.6"
  }
 },
 "nbformat": 4,
 "nbformat_minor": 5
}
