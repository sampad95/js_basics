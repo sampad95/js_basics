{
 "cells": [
  {
   "cell_type": "code",
   "execution_count": 1,
   "id": "f62892da-b2f4-4a2e-9db9-10cef458f70d",
   "metadata": {},
   "outputs": [
    {
     "data": {
      "text/plain": [
       "22"
      ]
     },
     "execution_count": 1,
     "metadata": {},
     "output_type": "execute_result"
    }
   ],
   "source": [
    "let name = \"Ankan\";\n",
    "age = 22;"
   ]
  },
  {
   "cell_type": "code",
   "execution_count": 2,
   "id": "e7b90fe9-c10a-4184-a0d8-7923fdba3d3e",
   "metadata": {},
   "outputs": [
    {
     "name": "stdout",
     "output_type": "stream",
     "text": [
      "false\n",
      "true\n"
     ]
    }
   ],
   "source": [
    "console.log(delete name);\n",
    "console.log(delete age);"
   ]
  }
 ],
 "metadata": {
  "kernelspec": {
   "display_name": "JavaScript (Node.js)",
   "language": "javascript",
   "name": "javascript"
  },
  "language_info": {
   "file_extension": ".js",
   "mimetype": "application/javascript",
   "name": "javascript",
   "version": "18.20.6"
  }
 },
 "nbformat": 4,
 "nbformat_minor": 5
}
