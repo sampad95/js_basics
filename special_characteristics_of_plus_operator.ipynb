{
 "cells": [
  {
   "cell_type": "markdown",
   "id": "4e9f558f-58f7-4622-94bd-dd68918eb2b3",
   "metadata": {},
   "source": [
    "# \"+\" before string"
   ]
  },
  {
   "cell_type": "markdown",
   "id": "f374e754-edf9-4e9e-80d7-ab547015381c",
   "metadata": {},
   "source": [
    "## In JS unary plus operator before a string, converts it into a positive numeric value."
   ]
  },
  {
   "cell_type": "code",
   "execution_count": 1,
   "id": "aabd0820-1a83-43a8-a6a0-0f06c0857386",
   "metadata": {},
   "outputs": [
    {
     "name": "stdout",
     "output_type": "stream",
     "text": [
      "n = 123\n",
      "typeof n = number\n"
     ]
    }
   ],
   "source": [
    "let n = + \"123\"; // \"+\" before a value (string or number) acts as unary plus operator and gives positive value. \n",
    "console.log(`n = ${n}`);\n",
    "console.log(`typeof n = ${typeof n}`);"
   ]
  },
  {
   "cell_type": "code",
   "execution_count": 2,
   "id": "752904a3-3152-47db-867f-ce063ab495d2",
   "metadata": {},
   "outputs": [
    {
     "name": "stdout",
     "output_type": "stream",
     "text": [
      "s = NaN\n",
      "typeof s = number\n"
     ]
    }
   ],
   "source": [
    "let s = + \"sampad\";   // string \"Sampad\" can not be converted into a number, so it becomes NaN which also a number type.\n",
    "console.log(`s = ${s}`);\n",
    "console.log(`typeof s = ${typeof s}`);"
   ]
  },
  {
   "cell_type": "code",
   "execution_count": 3,
   "id": "99db24dd-0eda-40db-9a12-557dbabbe55a",
   "metadata": {},
   "outputs": [
    {
     "name": "stdout",
     "output_type": "stream",
     "text": [
      "typeof NaN = number\n"
     ]
    }
   ],
   "source": [
    "console.log(`typeof NaN = ${typeof NaN}`);"
   ]
  },
  {
   "cell_type": "code",
   "execution_count": 4,
   "id": "b7eab35c-9ab2-43d5-ad0b-c36a9ac7fa4d",
   "metadata": {},
   "outputs": [
    {
     "name": "stdout",
     "output_type": "stream",
     "text": [
      "m = 246\n",
      "typeof m = number\n"
     ]
    }
   ],
   "source": [
    "let m = 123 + + \"123\"; // Here 1st \"+\" acts as binary and 2nd \"+\" acts as unary plus operator. \n",
    "// Unary \"+\" operator before a string type, converts it into a number type with positive value.\n",
    "console.log(`m = ${m}`);\n",
    "console.log(`typeof m = ${typeof m}`);"
   ]
  },
  {
   "cell_type": "code",
   "execution_count": 5,
   "id": "040408d1-e814-4e04-959e-83d36cb59673",
   "metadata": {},
   "outputs": [
    {
     "name": "stdout",
     "output_type": "stream",
     "text": [
      "p = NaN\n",
      "typeof p = number\n"
     ]
    }
   ],
   "source": [
    "let p = 123 + + \"sampad\";   \n",
    "console.log(`p = ${p}`);               // number + NaN = NaN.\n",
    "console.log(`typeof p = ${typeof p}`);"
   ]
  },
  {
   "cell_type": "code",
   "execution_count": 6,
   "id": "e421e4d7-7d7b-495e-981a-0192e05ffae3",
   "metadata": {},
   "outputs": [
    {
     "name": "stdout",
     "output_type": "stream",
     "text": [
      "a = 123sampad\n",
      "typeof a = string\n"
     ]
    }
   ],
   "source": [
    "let a = 123 + \"sampad\";          // string + number = string => concatenation.\n",
    "console.log(`a = ${a}`);\n",
    "console.log(`typeof a = ${typeof a}`);"
   ]
  },
  {
   "cell_type": "code",
   "execution_count": 7,
   "id": "aed95b06-b996-40fc-ab54-12e4eb6c13ed",
   "metadata": {},
   "outputs": [
    {
     "name": "stdout",
     "output_type": "stream",
     "text": [
      "r = 123NaN\n",
      "typeof r = string\n"
     ]
    }
   ],
   "source": [
    "let r = \"123\" + + \"sampad\";         // string + NaN = string, as NaN is number type.\n",
    "console.log(`r = ${r}`);\n",
    "console.log(`typeof r = ${typeof r}`);"
   ]
  },
  {
   "cell_type": "markdown",
   "id": "27ea8bf8-459c-4478-9e6e-84e68bdb4fef",
   "metadata": {},
   "source": [
    "# \"+\" before boolean"
   ]
  },
  {
   "cell_type": "markdown",
   "id": "7d4618f7-e5d3-40f0-b4ad-b9721cdf0ac5",
   "metadata": {},
   "source": [
    "## In JS unary plus operator before a boolean, converts it into a positive numeric value."
   ]
  },
  {
   "cell_type": "code",
   "execution_count": 8,
   "id": "29ad51b5-337c-4691-a092-369f594be5fc",
   "metadata": {},
   "outputs": [
    {
     "name": "stdout",
     "output_type": "stream",
     "text": [
      "1\n",
      "number\n"
     ]
    }
   ],
   "source": [
    "console.log(+true);\n",
    "console.log(typeof +true);"
   ]
  },
  {
   "cell_type": "code",
   "execution_count": 9,
   "id": "32119c10-0fc0-4424-b4b1-61512756182d",
   "metadata": {},
   "outputs": [
    {
     "name": "stdout",
     "output_type": "stream",
     "text": [
      "0\n",
      "number\n"
     ]
    }
   ],
   "source": [
    "console.log(+false);\n",
    "console.log(typeof +false);"
   ]
  },
  {
   "cell_type": "code",
   "execution_count": null,
   "id": "f93559f6-df75-43aa-90d0-db5495387cc7",
   "metadata": {},
   "outputs": [],
   "source": []
  }
 ],
 "metadata": {
  "kernelspec": {
   "display_name": "JavaScript (Node.js)",
   "language": "javascript",
   "name": "javascript"
  },
  "language_info": {
   "file_extension": ".js",
   "mimetype": "application/javascript",
   "name": "javascript",
   "version": "18.20.6"
  }
 },
 "nbformat": 4,
 "nbformat_minor": 5
}
