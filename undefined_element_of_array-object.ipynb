{
 "cells": [
  {
   "cell_type": "code",
   "execution_count": 1,
   "id": "8f722ca7-e522-4a80-b3a1-fda210a4f661",
   "metadata": {},
   "outputs": [
    {
     "name": "stdout",
     "output_type": "stream",
     "text": [
      "6\n",
      "[ 2, 5, 9, <2 empty items>, 7 ]\n",
      "undefined\n",
      "object\n"
     ]
    }
   ],
   "source": [
    "let arr = [2, 5, 9];\n",
    "arr[5] = 7;\n",
    "\n",
    "console.log(arr.length);\n",
    "console.log(arr);\n",
    "console.log(arr[3]);\n",
    "console.log(typeof arr);"
   ]
  },
  {
   "cell_type": "code",
   "execution_count": 2,
   "id": "e1cf2df8-50e7-4020-97ff-4676ad0d97a8",
   "metadata": {},
   "outputs": [
    {
     "name": "stdout",
     "output_type": "stream",
     "text": [
      "4\n",
      "[ 1, 2, <1 empty item>, 4 ]\n",
      "undefined\n",
      "object\n"
     ]
    }
   ],
   "source": [
    "let arr2 = [1, 2, 3, 4];\n",
    "delete arr2[2];\n",
    "\n",
    "console.log(arr2.length);\n",
    "console.log(arr2);\n",
    "console.log(arr2[2]);\n",
    "console.log(typeof arr2);"
   ]
  },
  {
   "cell_type": "code",
   "execution_count": 3,
   "id": "21f32057-cebc-4b8e-aadd-9120868440cc",
   "metadata": {},
   "outputs": [
    {
     "name": "stdout",
     "output_type": "stream",
     "text": [
      "4\n",
      "3\n"
     ]
    }
   ],
   "source": [
    "let count = 0;\n",
    "let arr3 = [1, 2, 3, 4];\n",
    "delete arr3[2];\n",
    "\n",
    "arr3.forEach((item) => count ++);\n",
    "\n",
    "console.log(arr3.length);  // during length count the empty slot at 2 is taken as undefined element and so the length does not change after delete.\n",
    "console.log(count);       // during incrementation operation the empty slot is skipped and so the value of count is lower than the length."
   ]
  }
 ],
 "metadata": {
  "kernelspec": {
   "display_name": "JavaScript (Node.js)",
   "language": "javascript",
   "name": "javascript"
  },
  "language_info": {
   "file_extension": ".js",
   "mimetype": "application/javascript",
   "name": "javascript",
   "version": "18.20.6"
  }
 },
 "nbformat": 4,
 "nbformat_minor": 5
}
