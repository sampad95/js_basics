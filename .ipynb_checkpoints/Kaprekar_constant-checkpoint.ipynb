{
 "cells": [
  {
   "cell_type": "code",
   "execution_count": 1,
   "id": "19baefa8-c8ec-482d-8303-5b49d868fdea",
   "metadata": {},
   "outputs": [
    {
     "name": "stdout",
     "output_type": "stream",
     "text": [
      "1278 8721 7443\n",
      "Next n= 7443\n",
      "3447 7443 3996\n",
      "Next n= 3996\n",
      "3699 9963 6264\n",
      "Next n= 6264\n",
      "2466 6642 4176\n",
      "Next n= 4176\n",
      "1467 7641 6174\n",
      "Next n= 6174\n"
     ]
    }
   ],
   "source": [
    "var n = 1728;\n",
    "\n",
    "while(n!=6174){\n",
    "    min_n = parseInt(n.toString().split('').sort().join(''));\n",
    "    max_n = parseInt(n.toString().split('').sort((a,b)=>b-a).join(''));\n",
    "    diff = max_n - min_n;\n",
    "    console.log(min_n, max_n, diff);\n",
    "    n = diff;\n",
    "    console.log(\"Next n=\", n);\n",
    "}"
   ]
  },
  {
   "cell_type": "code",
   "execution_count": 2,
   "id": "32942079-3e9d-49fa-a895-10069a5a3eae",
   "metadata": {},
   "outputs": [
    {
     "name": "stdout",
     "output_type": "stream",
     "text": [
      "Initial n =  3682\n",
      "Step =  1\n",
      "2368 8632 6264\n",
      "Next n= 6264\n",
      "Step =  2\n",
      "2466 6642 4176\n",
      "Next n= 4176\n",
      "Step =  3\n",
      "1467 7641 6174\n",
      "Next n= 6174\n"
     ]
    }
   ],
   "source": [
    "delete n;\n",
    "var n = Math.floor(Math.random() * 8999) + 1001;  // Math.floor(Math.random() * (max - min + 1) ) + min; \n",
    "// Here max = 9999, min = 1001\n",
    "console.log(\"Initial n = \", n);\n",
    "\n",
    "delete i;\n",
    "var i = 0;\n",
    "\n",
    "while(n!=6174){\n",
    "    min_n = parseInt(n.toString().split('').sort().join(''));\n",
    "    max_n = parseInt(n.toString().split('').sort((a,b)=>b-a).join(''));\n",
    "    diff = max_n - min_n;\n",
    "\n",
    "    // i++;\n",
    "    i +=1;\n",
    "    console.log('Step = ', i);\n",
    "\n",
    "    console.log(min_n, max_n, diff);\n",
    "    n = diff;\n",
    "\n",
    "    console.log(\"Next n=\", n);\n",
    "}"
   ]
  },
  {
   "cell_type": "code",
   "execution_count": 3,
   "id": "b2d82ce2-ee8c-4ad7-a711-9fa9bf16c8fc",
   "metadata": {},
   "outputs": [
    {
     "name": "stdout",
     "output_type": "stream",
     "text": [
      "Initial n = 1577\n",
      "Step =  1\n",
      "1577 7751 6174\n",
      "Next n=6174\n",
      "Stop\n"
     ]
    }
   ],
   "source": [
    "delete n;\n",
    "// var n = Math.floor(Math.random() * 8999) + 1001;  // Math.floor(Math.random() * (max - min + 1) ) + min; // Here max = 9999, min = 1001\n",
    "var n = Math.floor(Math.random() * 9901) + 100;  // Math.floor(Math.random() * (max - min + 1) ) + min; // Here max = 10000, min = 100\n",
    "\n",
    "console.log(\"Initial n = \"+ n);\n",
    "\n",
    "delete i;\n",
    "var i = 0;\n",
    "\n",
    "if (n.toString().length === 4){\n",
    "    while(n!=6174){\n",
    "        min_n = parseInt(n.toString().split('').sort().join(''));\n",
    "        max_n = parseInt(n.toString().split('').sort((a,b)=>b-a).join(''));\n",
    "        \n",
    "        if (min_n === max_n){\n",
    "            console.log(\"Invalid\");\n",
    "            break;\n",
    "        }\n",
    "        else{\n",
    "            diff = max_n - min_n;\n",
    "             // i++;\n",
    "             i +=1;\n",
    "             console.log('Step = ', i);\n",
    "             console.log(min_n, max_n, diff);\n",
    "\n",
    "            if(diff.toString().length===4){\n",
    "                n=diff;\n",
    "            }\n",
    "            else if(diff.toString().length===3){\n",
    "                n=\"0\"+diff.toString();\n",
    "            }\n",
    "            else if(diff.toString().length===2){\n",
    "                n=\"00\"+diff.toString();\n",
    "            }\n",
    "            else{\n",
    "                n=\"000\"+diff.toString();\n",
    "            }\n",
    "\n",
    "            console.log(\"Next n=\"+ n);\n",
    "        }\n",
    "    }\n",
    "    console.log(\"Stop\")\n",
    "}\n",
    "else{\n",
    "    console.log(\"Invalid\")\n",
    "}"
   ]
  },
  {
   "cell_type": "code",
   "execution_count": 4,
   "id": "bc32a9e6-cce7-43a1-8f84-5c0bac9d0a0b",
   "metadata": {},
   "outputs": [],
   "source": [
    "function Kaprekar_routine(n){\n",
    "    console.log(`Initial n = ${n}`);\n",
    "    delete i;\n",
    "    var i = 0;\n",
    "    if (n.toString().length === 4){\n",
    "        while(n!=6174){\n",
    "            min_n = parseInt(n.toString().split('').sort().join(''));\n",
    "            max_n = parseInt(n.toString().split('').sort((a,b)=>b-a).join(''));\n",
    "            \n",
    "            if (min_n === max_n){\n",
    "                console.log(\"Invalid\");\n",
    "                break;\n",
    "            }\n",
    "            else{\n",
    "                diff = max_n - min_n;\n",
    "                 // i++;\n",
    "                 i +=1;\n",
    "                 console.log(`Step = ${i}`);\n",
    "                 console.log(min_n, max_n, diff);\n",
    "    \n",
    "                if(diff.toString().length===4){\n",
    "                    n=diff;\n",
    "                }\n",
    "                else if(diff.toString().length===3){\n",
    "                    n=\"0\"+diff.toString();\n",
    "                }\n",
    "                else if(diff.toString().length===2){\n",
    "                    n=\"00\"+diff.toString();\n",
    "                }\n",
    "                else{\n",
    "                    n=\"000\"+diff.toString();\n",
    "                }\n",
    "    \n",
    "                console.log(`Next n = ${n}`);\n",
    "            }  \n",
    "        }\n",
    "        console.log(\"Stop\");\n",
    "    }\n",
    "    else{\n",
    "        console.log(\"Invalid\");\n",
    "    }\n",
    "}"
   ]
  },
  {
   "cell_type": "code",
   "execution_count": 5,
   "id": "f0addde2-e21b-4f8d-a50b-c4cc355a6d62",
   "metadata": {},
   "outputs": [
    {
     "name": "stdout",
     "output_type": "stream",
     "text": [
      "Initial n = 6844\n",
      "Step = 1\n",
      "4468 8644 4176\n",
      "Next n = 4176\n",
      "Step = 2\n",
      "1467 7641 6174\n",
      "Next n = 6174\n",
      "Stop\n"
     ]
    }
   ],
   "source": [
    "delete num;\n",
    "var num = Math.floor(Math.random() * 9901) + 100;  // Math.floor(Math.random() * (max - min + 1) ) + min; // Here max = 10000, min = 100\n",
    "Kaprekar_routine(num);"
   ]
  },
  {
   "cell_type": "code",
   "execution_count": null,
   "id": "21ffe922-d982-40aa-9bc2-9bdcd0bb625a",
   "metadata": {},
   "outputs": [],
   "source": []
  }
 ],
 "metadata": {
  "kernelspec": {
   "display_name": "JavaScript (Node.js)",
   "language": "javascript",
   "name": "javascript"
  },
  "language_info": {
   "file_extension": ".js",
   "mimetype": "application/javascript",
   "name": "javascript",
   "version": "18.20.6"
  }
 },
 "nbformat": 4,
 "nbformat_minor": 5
}
