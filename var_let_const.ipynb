{
 "cells": [
  {
   "cell_type": "code",
   "execution_count": 1,
   "id": "6089eeb1-8b5f-4304-8330-3a6e29093c3a",
   "metadata": {},
   "outputs": [],
   "source": [
    "let name = \"Ankan\";\n",
    "var age = 22;\n",
    "const address = \"Bannagra\""
   ]
  },
  {
   "cell_type": "code",
   "execution_count": 2,
   "id": "4da6e5f7-1ca5-470a-94fb-45c048db64da",
   "metadata": {},
   "outputs": [
    {
     "data": {
      "text/plain": [
       "false"
      ]
     },
     "execution_count": 2,
     "metadata": {},
     "output_type": "execute_result"
    }
   ],
   "source": [
    "delete name; // deletes the value only keeping void space for \"name\" as declared by \"let\""
   ]
  },
  {
   "cell_type": "code",
   "execution_count": 3,
   "id": "7dee042f-18ac-45a4-a2e0-ed1a9935ae62",
   "metadata": {},
   "outputs": [
    {
     "data": {
      "text/plain": [
       "false"
      ]
     },
     "execution_count": 3,
     "metadata": {},
     "output_type": "execute_result"
    }
   ],
   "source": [
    "delete age;"
   ]
  },
  {
   "cell_type": "code",
   "execution_count": 4,
   "id": "e2b41248-20c6-41f3-bb27-4e918326c2db",
   "metadata": {},
   "outputs": [
    {
     "data": {
      "text/plain": [
       "false"
      ]
     },
     "execution_count": 4,
     "metadata": {},
     "output_type": "execute_result"
    }
   ],
   "source": [
    "delete address;"
   ]
  },
  {
   "cell_type": "code",
   "execution_count": 5,
   "id": "e8731c6e-8abe-4da9-8f8a-a97367ff6435",
   "metadata": {},
   "outputs": [
    {
     "ename": "SyntaxError",
     "evalue": "Identifier 'name' has already been declared",
     "execution_count": 5,
     "output_type": "error",
     "traceback": [
      "evalmachine.<anonymous>:1",
      "let name = \"Anupam\";  // re-declaration not allowed for declared by \"let\"",
      "^",
      "",
      "SyntaxError: Identifier 'name' has already been declared",
      "    at Script.runInThisContext (node:vm:121:12)",
      "    at Object.runInThisContext (node:vm:297:38)",
      "    at run ([eval]:1020:15)",
      "    at onRunRequest ([eval]:864:18)",
      "    at onMessage ([eval]:828:13)",
      "    at process.emit (node:events:517:28)",
      "    at emit (node:internal/child_process:944:14)",
      "    at process.processTicksAndRejections (node:internal/process/task_queues:83:21)"
     ]
    }
   ],
   "source": [
    "let name = \"Anupam\";  // re-declaration not allowed for declared by \"let\""
   ]
  },
  {
   "cell_type": "code",
   "execution_count": 6,
   "id": "21dd1a52-cfb8-459b-8d25-ab8c212ab220",
   "metadata": {},
   "outputs": [
    {
     "ename": "SyntaxError",
     "evalue": "Identifier 'name' has already been declared",
     "execution_count": 6,
     "output_type": "error",
     "traceback": [
      "evalmachine.<anonymous>:1",
      "var name = \"Anupam\";  // re-declaration not allowed for declared by \"let\"",
      "^",
      "",
      "SyntaxError: Identifier 'name' has already been declared",
      "    at evalmachine.<anonymous>:1:1",
      "    at Script.runInThisContext (node:vm:121:12)",
      "    at Object.runInThisContext (node:vm:297:38)",
      "    at run ([eval]:1020:15)",
      "    at onRunRequest ([eval]:864:18)",
      "    at onMessage ([eval]:828:13)",
      "    at process.emit (node:events:517:28)",
      "    at emit (node:internal/child_process:944:14)",
      "    at process.processTicksAndRejections (node:internal/process/task_queues:83:21)"
     ]
    }
   ],
   "source": [
    "var name = \"Anupam\";  // re-declaration not allowed for declared by \"let\""
   ]
  },
  {
   "cell_type": "code",
   "execution_count": 7,
   "id": "9ee267c1-53db-4540-9693-fe0a55005ac4",
   "metadata": {},
   "outputs": [
    {
     "ename": "SyntaxError",
     "evalue": "Identifier 'name' has already been declared",
     "execution_count": 7,
     "output_type": "error",
     "traceback": [
      "evalmachine.<anonymous>:1",
      "const name = \"Anupam\";  // re-declaration not allowed for declared by \"let\"",
      "^",
      "",
      "SyntaxError: Identifier 'name' has already been declared",
      "    at Script.runInThisContext (node:vm:121:12)",
      "    at Object.runInThisContext (node:vm:297:38)",
      "    at run ([eval]:1020:15)",
      "    at onRunRequest ([eval]:864:18)",
      "    at onMessage ([eval]:828:13)",
      "    at process.emit (node:events:517:28)",
      "    at emit (node:internal/child_process:944:14)",
      "    at process.processTicksAndRejections (node:internal/process/task_queues:83:21)"
     ]
    }
   ],
   "source": [
    "const name = \"Anupam\";  // re-declaration not allowed for declared by \"let\""
   ]
  },
  {
   "cell_type": "code",
   "execution_count": 8,
   "id": "03eb55b1-c8a2-4d6e-b726-b956da1e2156",
   "metadata": {},
   "outputs": [
    {
     "name": "stdout",
     "output_type": "stream",
     "text": [
      "Ankan\n"
     ]
    }
   ],
   "source": [
    "console.log(name);"
   ]
  },
  {
   "cell_type": "code",
   "execution_count": 9,
   "id": "be8021e1-0032-4050-a707-4cc02554a923",
   "metadata": {},
   "outputs": [
    {
     "data": {
      "text/plain": [
       "'Anupam'"
      ]
     },
     "execution_count": 9,
     "metadata": {},
     "output_type": "execute_result"
    }
   ],
   "source": [
    "name = \"Anupam\";   // re-declaration not allowed but re-assignment allowed for declared by \"let\""
   ]
  },
  {
   "cell_type": "code",
   "execution_count": 10,
   "id": "9262d33d-6b2d-402b-b379-f7877cf2ee07",
   "metadata": {},
   "outputs": [
    {
     "name": "stdout",
     "output_type": "stream",
     "text": [
      "Anupam\n"
     ]
    }
   ],
   "source": [
    "console.log(name) ;  // re-assigned"
   ]
  },
  {
   "cell_type": "code",
   "execution_count": 11,
   "id": "be20ef23-925a-494c-a102-e0bac546ba13",
   "metadata": {},
   "outputs": [
    {
     "ename": "SyntaxError",
     "evalue": "Identifier 'age' has already been declared",
     "execution_count": 11,
     "output_type": "error",
     "traceback": [
      "evalmachine.<anonymous>:1",
      "let age = 25;  // re-declaration by \"let\" is not allowed for declared by \"var\"",
      "^",
      "",
      "SyntaxError: Identifier 'age' has already been declared",
      "    at Script.runInThisContext (node:vm:121:12)",
      "    at Object.runInThisContext (node:vm:297:38)",
      "    at run ([eval]:1020:15)",
      "    at onRunRequest ([eval]:864:18)",
      "    at onMessage ([eval]:828:13)",
      "    at process.emit (node:events:517:28)",
      "    at emit (node:internal/child_process:944:14)",
      "    at process.processTicksAndRejections (node:internal/process/task_queues:83:21)"
     ]
    }
   ],
   "source": [
    "let age = 25;  // re-declaration by \"let\" is not allowed for declared by \"var\""
   ]
  },
  {
   "cell_type": "code",
   "execution_count": 12,
   "id": "08f4d4ea-cb1a-4aff-8ec9-1c61a7b3b02f",
   "metadata": {},
   "outputs": [
    {
     "ename": "SyntaxError",
     "evalue": "Identifier 'age' has already been declared",
     "execution_count": 12,
     "output_type": "error",
     "traceback": [
      "evalmachine.<anonymous>:1",
      "const age = 25;  // re-declaration by \"const\" is not allowed for declared by \"var\"",
      "^",
      "",
      "SyntaxError: Identifier 'age' has already been declared",
      "    at Script.runInThisContext (node:vm:121:12)",
      "    at Object.runInThisContext (node:vm:297:38)",
      "    at run ([eval]:1020:15)",
      "    at onRunRequest ([eval]:864:18)",
      "    at onMessage ([eval]:828:13)",
      "    at process.emit (node:events:517:28)",
      "    at emit (node:internal/child_process:944:14)",
      "    at process.processTicksAndRejections (node:internal/process/task_queues:83:21)"
     ]
    }
   ],
   "source": [
    "const age = 25;  // re-declaration by \"const\" is not allowed for declared by \"var\""
   ]
  },
  {
   "cell_type": "code",
   "execution_count": 13,
   "id": "44ce3d37-900e-44cf-b2c9-282ede258501",
   "metadata": {},
   "outputs": [],
   "source": [
    "var age = 25;  // re-declaration by \"var\" and re-assignment both are allowed for declared by \"var\""
   ]
  },
  {
   "cell_type": "code",
   "execution_count": 14,
   "id": "35593b13-7a20-43b1-93ea-a81f810c6675",
   "metadata": {},
   "outputs": [
    {
     "name": "stdout",
     "output_type": "stream",
     "text": [
      "25\n"
     ]
    }
   ],
   "source": [
    "console.log(age);"
   ]
  },
  {
   "cell_type": "code",
   "execution_count": 15,
   "id": "c79e92f3-bbf8-43f2-a3b8-6863c37d3ba8",
   "metadata": {},
   "outputs": [
    {
     "ename": "SyntaxError",
     "evalue": "Identifier 'address' has already been declared",
     "execution_count": 15,
     "output_type": "error",
     "traceback": [
      "evalmachine.<anonymous>:1",
      "var address = \"Baghtona\" // can not be re-declared as declared by \"const\"",
      "^",
      "",
      "SyntaxError: Identifier 'address' has already been declared",
      "    at evalmachine.<anonymous>:1:1",
      "    at Script.runInThisContext (node:vm:121:12)",
      "    at Object.runInThisContext (node:vm:297:38)",
      "    at run ([eval]:1020:15)",
      "    at onRunRequest ([eval]:864:18)",
      "    at onMessage ([eval]:828:13)",
      "    at process.emit (node:events:517:28)",
      "    at emit (node:internal/child_process:944:14)",
      "    at process.processTicksAndRejections (node:internal/process/task_queues:83:21)"
     ]
    }
   ],
   "source": [
    "var address = \"Baghtona\" // can not be re-declared as declared by \"const\""
   ]
  },
  {
   "cell_type": "code",
   "execution_count": 16,
   "id": "9ada53b1-e138-43eb-878e-1c08d7bea93f",
   "metadata": {},
   "outputs": [
    {
     "ename": "SyntaxError",
     "evalue": "Identifier 'address' has already been declared",
     "execution_count": 16,
     "output_type": "error",
     "traceback": [
      "evalmachine.<anonymous>:1",
      "let address = \"Baghtona\" // can not be re-declared as declared by \"const\"",
      "^",
      "",
      "SyntaxError: Identifier 'address' has already been declared",
      "    at Script.runInThisContext (node:vm:121:12)",
      "    at Object.runInThisContext (node:vm:297:38)",
      "    at run ([eval]:1020:15)",
      "    at onRunRequest ([eval]:864:18)",
      "    at onMessage ([eval]:828:13)",
      "    at process.emit (node:events:517:28)",
      "    at emit (node:internal/child_process:944:14)",
      "    at process.processTicksAndRejections (node:internal/process/task_queues:83:21)"
     ]
    }
   ],
   "source": [
    "let address = \"Baghtona\" // can not be re-declared as declared by \"const\""
   ]
  },
  {
   "cell_type": "code",
   "execution_count": 17,
   "id": "3d05eaca-9422-405d-93f2-4b88ed8e94ba",
   "metadata": {},
   "outputs": [
    {
     "ename": "SyntaxError",
     "evalue": "Identifier 'address' has already been declared",
     "execution_count": 17,
     "output_type": "error",
     "traceback": [
      "evalmachine.<anonymous>:1",
      "const address = \"Baghtona\"  // can not be re-declared as declared by \"const\"",
      "^",
      "",
      "SyntaxError: Identifier 'address' has already been declared",
      "    at Script.runInThisContext (node:vm:121:12)",
      "    at Object.runInThisContext (node:vm:297:38)",
      "    at run ([eval]:1020:15)",
      "    at onRunRequest ([eval]:864:18)",
      "    at onMessage ([eval]:828:13)",
      "    at process.emit (node:events:517:28)",
      "    at emit (node:internal/child_process:944:14)",
      "    at process.processTicksAndRejections (node:internal/process/task_queues:83:21)"
     ]
    }
   ],
   "source": [
    "const address = \"Baghtona\"  // can not be re-declared as declared by \"const\""
   ]
  },
  {
   "cell_type": "code",
   "execution_count": 18,
   "id": "7cf688c5-9d91-45bf-92a0-2f142de4d933",
   "metadata": {},
   "outputs": [
    {
     "ename": "TypeError",
     "evalue": "Assignment to constant variable.",
     "execution_count": 18,
     "output_type": "error",
     "traceback": [
      "evalmachine.<anonymous>:1",
      "address = \"Baghtona\" // neither can be re-assigned nor re-declared as declared by \"const\"",
      "        ^",
      "",
      "TypeError: Assignment to constant variable.",
      "    at evalmachine.<anonymous>:1:9",
      "    at Script.runInThisContext (node:vm:121:12)",
      "    at Object.runInThisContext (node:vm:297:38)",
      "    at run ([eval]:1020:15)",
      "    at onRunRequest ([eval]:864:18)",
      "    at onMessage ([eval]:828:13)",
      "    at process.emit (node:events:517:28)",
      "    at emit (node:internal/child_process:944:14)",
      "    at process.processTicksAndRejections (node:internal/process/task_queues:83:21)"
     ]
    }
   ],
   "source": [
    "address = \"Baghtona\" // neither can be re-assigned nor re-declared as declared by \"const\""
   ]
  },
  {
   "cell_type": "code",
   "execution_count": 19,
   "id": "b5204bd3-1800-4f59-8c3e-82159d073a78",
   "metadata": {},
   "outputs": [
    {
     "name": "stdout",
     "output_type": "stream",
     "text": [
      "Bannagra\n"
     ]
    }
   ],
   "source": [
    "console.log(address)"
   ]
  },
  {
   "cell_type": "code",
   "execution_count": null,
   "id": "47533a82-e059-4a60-931e-9b01ef1f1b7c",
   "metadata": {},
   "outputs": [],
   "source": []
  }
 ],
 "metadata": {
  "kernelspec": {
   "display_name": "JavaScript (Node.js)",
   "language": "javascript",
   "name": "javascript"
  },
  "language_info": {
   "file_extension": ".js",
   "mimetype": "application/javascript",
   "name": "javascript",
   "version": "18.20.6"
  }
 },
 "nbformat": 4,
 "nbformat_minor": 5
}
