{
 "cells": [
  {
   "cell_type": "code",
   "execution_count": 1,
   "id": "8f722ca7-e522-4a80-b3a1-fda210a4f661",
   "metadata": {},
   "outputs": [
    {
     "name": "stdout",
     "output_type": "stream",
     "text": [
      "6\n",
      "[ 2, 5, 9, <2 empty items>, 7 ]\n",
      "undefined\n",
      "object\n"
     ]
    }
   ],
   "source": [
    "let lst = [2, 5, 9];\n",
    "lst[5] = 7;\n",
    "\n",
    "console.log(lst.length);\n",
    "console.log(lst);\n",
    "console.log(lst[3]);\n",
    "console.log(typeof lst);"
   ]
  },
  {
   "cell_type": "code",
   "execution_count": 2,
   "id": "e1cf2df8-50e7-4020-97ff-4676ad0d97a8",
   "metadata": {},
   "outputs": [
    {
     "name": "stdout",
     "output_type": "stream",
     "text": [
      "4\n",
      "[ 1, 2, <1 empty item>, 4 ]\n",
      "undefined\n",
      "object\n"
     ]
    }
   ],
   "source": [
    "let lst2 = [1, 2, 3, 4];\n",
    "delete lst2[2];\n",
    "\n",
    "console.log(lst2.length);\n",
    "console.log(lst2);\n",
    "console.log(lst2[2]);\n",
    "console.log(typeof lst2);"
   ]
  },
  {
   "cell_type": "code",
   "execution_count": null,
   "id": "21f32057-cebc-4b8e-aadd-9120868440cc",
   "metadata": {},
   "outputs": [],
   "source": []
  }
 ],
 "metadata": {
  "kernelspec": {
   "display_name": "JavaScript (Node.js)",
   "language": "javascript",
   "name": "javascript"
  },
  "language_info": {
   "file_extension": ".js",
   "mimetype": "application/javascript",
   "name": "javascript",
   "version": "18.20.6"
  }
 },
 "nbformat": 4,
 "nbformat_minor": 5
}
