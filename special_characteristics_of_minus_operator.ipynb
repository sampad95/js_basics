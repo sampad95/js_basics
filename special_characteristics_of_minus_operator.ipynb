{
 "cells": [
  {
   "cell_type": "markdown",
   "id": "c33b88af-01c5-42a2-aecc-50d2d6099df8",
   "metadata": {},
   "source": [
    "# \"-\" before string"
   ]
  },
  {
   "cell_type": "markdown",
   "id": "eacbade9-182b-475a-9801-9bdc66bbf297",
   "metadata": {},
   "source": [
    "## In JS unary minus operator before a string, converts it into a negative numeric value."
   ]
  },
  {
   "cell_type": "code",
   "execution_count": 1,
   "id": "d675147f-5d8f-4b48-ad3f-3ee403507263",
   "metadata": {},
   "outputs": [
    {
     "name": "stdout",
     "output_type": "stream",
     "text": [
      "n = -123\n",
      "typeof n = number\n"
     ]
    }
   ],
   "source": [
    "let n = - \"123\";  // \"-\" before a value (string or number) acts as unary minus operator and gives negative value. \n",
    "console.log(`n = ${n}`);\n",
    "console.log(`typeof n = ${typeof n}`);"
   ]
  },
  {
   "cell_type": "code",
   "execution_count": 2,
   "id": "63740fb6-a011-45a6-9cbe-3630ee55420e",
   "metadata": {},
   "outputs": [
    {
     "name": "stdout",
     "output_type": "stream",
     "text": [
      "s = NaN\n",
      "typeof s = number\n"
     ]
    }
   ],
   "source": [
    "let s = - \"sampad\";   // string \"Sampad\" can not be converted into a number, so it becomes NaN which also a number type.\n",
    "console.log(`s = ${s}`);\n",
    "console.log(`typeof s = ${typeof s}`);"
   ]
  },
  {
   "cell_type": "code",
   "execution_count": 3,
   "id": "cb69e748-1c58-4508-a5cc-1eac2bfd364f",
   "metadata": {},
   "outputs": [
    {
     "name": "stdout",
     "output_type": "stream",
     "text": [
      "typeof NaN = number\n"
     ]
    }
   ],
   "source": [
    "console.log(`typeof NaN = ${typeof NaN}`);"
   ]
  },
  {
   "cell_type": "code",
   "execution_count": 4,
   "id": "faccdec2-f6d8-4c27-9248-540b1aec7ed0",
   "metadata": {},
   "outputs": [
    {
     "name": "stdout",
     "output_type": "stream",
     "text": [
      "m = 246\n",
      "typeof m = number\n"
     ]
    }
   ],
   "source": [
    "let m = 123 - - \"123\"; // Here 1st \"-\" acts as binary and 2nd \"-\" acts as unary operator. \n",
    "// Unary \"-\" operator before a string type, converts it into a number type with negative value. // m = 123 - (-123)\n",
    "console.log(`m = ${m}`);\n",
    "console.log(`typeof m = ${typeof m}`);"
   ]
  },
  {
   "cell_type": "code",
   "execution_count": 5,
   "id": "ac7a0c7f-92cb-4847-80ff-995680475cf8",
   "metadata": {},
   "outputs": [
    {
     "name": "stdout",
     "output_type": "stream",
     "text": [
      "m2 = 0\n",
      "typeof m2 = number\n"
     ]
    }
   ],
   "source": [
    "let m2 = 123 - \"123\"; // \"-\" before \"123\" acts as unary operator and gives -123. Then that \"-\" of -123 acts as binary operator.\n",
    "console.log(`m2 = ${m2}`);\n",
    "console.log(`typeof m2 = ${typeof m2}`);"
   ]
  },
  {
   "cell_type": "code",
   "execution_count": 6,
   "id": "f2209676-5c50-4e0e-aeb5-70213165d0d9",
   "metadata": {},
   "outputs": [
    {
     "name": "stdout",
     "output_type": "stream",
     "text": [
      "m3 = 0\n",
      "typeof m3 = number\n"
     ]
    }
   ],
   "source": [
    "let m3 = \"123\" - \"123\"; // \"-\" before \"123\" acts as unary operator and gives -123. Then that \"-\" of -123 acts as binary operator.\n",
    "// m3 = \"123\" - 123. Minus binary operation between string and number gives numeric type converting string into numeric type.\n",
    "console.log(`m3 = ${m2}`);\n",
    "console.log(`typeof m3 = ${typeof m2}`);"
   ]
  },
  {
   "cell_type": "code",
   "execution_count": 7,
   "id": "2fa7de12-128e-4ddf-b2e2-0cac8191e081",
   "metadata": {},
   "outputs": [
    {
     "name": "stdout",
     "output_type": "stream",
     "text": [
      "p = NaN\n",
      "typeof p = number\n"
     ]
    }
   ],
   "source": [
    "let p = 123 - - \"sampad\";   \n",
    "console.log(`p = ${p}`);               // number - (-NaN) = number + NaN = NaN => number type\n",
    "console.log(`typeof p = ${typeof p}`);"
   ]
  },
  {
   "cell_type": "code",
   "execution_count": 8,
   "id": "b4489bf1-1d49-46c9-b88a-abe9df83933c",
   "metadata": {},
   "outputs": [
    {
     "name": "stdout",
     "output_type": "stream",
     "text": [
      "a = NaN\n",
      "typeof a = number\n"
     ]
    }
   ],
   "source": [
    "let a = 123 - \"sampad\";          //  number - NaN = NaN => number type\n",
    "console.log(`a = ${a}`);\n",
    "console.log(`typeof a = ${typeof a}`);"
   ]
  },
  {
   "cell_type": "code",
   "execution_count": 9,
   "id": "447c9ac5-2f35-4945-b7f2-b6edf9f31957",
   "metadata": {},
   "outputs": [
    {
     "name": "stdout",
     "output_type": "stream",
     "text": [
      "a2 = NaN\n",
      "typeof a2 = number\n"
     ]
    }
   ],
   "source": [
    "let a2 = \"sampad\" - 123;          // NaN - number = NaN => number type \n",
    "console.log(`a2 = ${a2}`);\n",
    "console.log(`typeof a2 = ${typeof a2}`);"
   ]
  },
  {
   "cell_type": "code",
   "execution_count": 10,
   "id": "1efcc013-2f3b-4e19-b808-479e3ff21ba0",
   "metadata": {},
   "outputs": [
    {
     "name": "stdout",
     "output_type": "stream",
     "text": [
      "r = NaN\n",
      "typeof r = number\n"
     ]
    }
   ],
   "source": [
    "let r = \"123\" - - \"sampad\";         // string - (-NaN) = string, as NaN is number type\n",
    "console.log(`r = ${r}`);\n",
    "console.log(`typeof r = ${typeof r}`);"
   ]
  },
  {
   "cell_type": "markdown",
   "id": "2cb47922-ef33-4cb4-a77c-ae4ed6f42718",
   "metadata": {},
   "source": [
    "# \"-\" before boolean"
   ]
  },
  {
   "cell_type": "markdown",
   "id": "7332bba0-be79-4872-9d0d-ad9dd788be01",
   "metadata": {},
   "source": [
    "## In JS unary minus operator before a boolean, converts it into a negative numeric value."
   ]
  },
  {
   "cell_type": "code",
   "execution_count": 11,
   "id": "b6b2f100-b0c9-432b-9534-93d00b7010b2",
   "metadata": {},
   "outputs": [
    {
     "name": "stdout",
     "output_type": "stream",
     "text": [
      "-1\n",
      "number\n"
     ]
    }
   ],
   "source": [
    "console.log(-true);\n",
    "console.log(typeof -true);"
   ]
  },
  {
   "cell_type": "code",
   "execution_count": 12,
   "id": "10c9d109-4e2a-4b53-b3de-af2db239fc85",
   "metadata": {},
   "outputs": [
    {
     "name": "stdout",
     "output_type": "stream",
     "text": [
      "-0\n",
      "number\n"
     ]
    }
   ],
   "source": [
    "console.log(-false);\n",
    "console.log(typeof -false);"
   ]
  },
  {
   "cell_type": "code",
   "execution_count": null,
   "id": "7c129729-800a-48e7-ab52-ed9c891b5077",
   "metadata": {},
   "outputs": [],
   "source": []
  }
 ],
 "metadata": {
  "kernelspec": {
   "display_name": "JavaScript (Node.js)",
   "language": "javascript",
   "name": "javascript"
  },
  "language_info": {
   "file_extension": ".js",
   "mimetype": "application/javascript",
   "name": "javascript",
   "version": "18.20.6"
  }
 },
 "nbformat": 4,
 "nbformat_minor": 5
}
