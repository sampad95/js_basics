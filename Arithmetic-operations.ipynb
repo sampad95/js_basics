{
 "cells": [
  {
   "cell_type": "code",
   "execution_count": 7,
   "id": "c367cf09-8b16-4130-8c01-87db22b92c2a",
   "metadata": {},
   "outputs": [
    {
     "name": "stdout",
     "output_type": "stream",
     "text": [
      "2\n"
     ]
    }
   ],
   "source": [
    "num = 4\n",
    "\n",
    "// // num +=2     //num = num + 2  // increment by 2\n",
    "num -=2     //num = num - 2  // decrement by 2\n",
    "console.log(num)"
   ]
  },
  {
   "cell_type": "code",
   "execution_count": 9,
   "id": "f92d39a1-50af-4f57-92e9-bfd0b2ed1ba1",
   "metadata": {},
   "outputs": [
    {
     "name": "stdout",
     "output_type": "stream",
     "text": [
      "3\n"
     ]
    }
   ],
   "source": [
    "num = 4\n",
    "\n",
    "// // num ++      // num = num + 1 or num += 1  // increment by unity\n",
    "num --      // num = num - 1 or num -= 1  // decrement by unity\n",
    "console.log(num)"
   ]
  },
  {
   "cell_type": "code",
   "execution_count": null,
   "id": "dd64354f-fe93-4ec7-8f3d-c93b6c0ad9fd",
   "metadata": {},
   "outputs": [],
   "source": []
  }
 ],
 "metadata": {
  "kernelspec": {
   "display_name": "JavaScript (Node.js)",
   "language": "javascript",
   "name": "javascript"
  },
  "language_info": {
   "file_extension": ".js",
   "mimetype": "application/javascript",
   "name": "javascript",
   "version": "18.20.6"
  }
 },
 "nbformat": 4,
 "nbformat_minor": 5
}
